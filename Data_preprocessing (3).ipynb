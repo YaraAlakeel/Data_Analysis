{
 "cells": [
  {
   "cell_type": "code",
   "execution_count": 204,
   "id": "2e004fa8-2179-4699-96a6-f5c3524b0936",
   "metadata": {},
   "outputs": [
    {
     "name": "stdout",
     "output_type": "stream",
     "text": [
      "Dataset loaded successfully!\n"
     ]
    }
   ],
   "source": [
    "import pandas as pd\n",
    "\n",
    "file_path = r'C:\\Users\\YaraAlaqeel\\data_analysis\\HR Analytics_Job Change of Data Scientists_After_processing.csv'\n",
    "\n",
    "try:\n",
    "    df = pd.read_csv(file_path)\n",
    "    print(\"Dataset loaded successfully!\")\n",
    "except FileNotFoundError:\n",
    "    print(f\"File '{file_path}' not found. Please check the file path and try again.\")\n",
    "except Exception as e:\n",
    "    print(f\"Error loading dataset: {str(e)}\")"
   ]
  },
  {
   "cell_type": "code",
   "execution_count": 205,
   "id": "6bda811a-6c17-42bb-8b00-8d9dd0e009dd",
   "metadata": {},
   "outputs": [
    {
     "data": {
      "text/html": [
       "<div>\n",
       "<style scoped>\n",
       "    .dataframe tbody tr th:only-of-type {\n",
       "        vertical-align: middle;\n",
       "    }\n",
       "\n",
       "    .dataframe tbody tr th {\n",
       "        vertical-align: top;\n",
       "    }\n",
       "\n",
       "    .dataframe thead th {\n",
       "        text-align: right;\n",
       "    }\n",
       "</style>\n",
       "<table border=\"1\" class=\"dataframe\">\n",
       "  <thead>\n",
       "    <tr style=\"text-align: right;\">\n",
       "      <th></th>\n",
       "      <th>enrollee_id</th>\n",
       "      <th>city</th>\n",
       "      <th>city_development_index</th>\n",
       "      <th>gender</th>\n",
       "      <th>relevent_experience</th>\n",
       "      <th>enrolled_university</th>\n",
       "      <th>education_level</th>\n",
       "      <th>major_discipline</th>\n",
       "      <th>experience</th>\n",
       "      <th>company_size</th>\n",
       "      <th>company_type</th>\n",
       "      <th>last_new_job</th>\n",
       "      <th>training_hours</th>\n",
       "      <th>target</th>\n",
       "    </tr>\n",
       "  </thead>\n",
       "  <tbody>\n",
       "    <tr>\n",
       "      <th>0</th>\n",
       "      <td>8949</td>\n",
       "      <td>city_103</td>\n",
       "      <td>0.920</td>\n",
       "      <td>Male</td>\n",
       "      <td>Has relevent experience</td>\n",
       "      <td>no_enrollment</td>\n",
       "      <td>Graduate</td>\n",
       "      <td>STEM</td>\n",
       "      <td>&gt;20</td>\n",
       "      <td>NaN</td>\n",
       "      <td>NaN</td>\n",
       "      <td>1</td>\n",
       "      <td>36</td>\n",
       "      <td>1.0</td>\n",
       "    </tr>\n",
       "    <tr>\n",
       "      <th>1</th>\n",
       "      <td>29725</td>\n",
       "      <td>city_40</td>\n",
       "      <td>0.776</td>\n",
       "      <td>Male</td>\n",
       "      <td>No relevent experience</td>\n",
       "      <td>no_enrollment</td>\n",
       "      <td>Graduate</td>\n",
       "      <td>STEM</td>\n",
       "      <td>15</td>\n",
       "      <td>50-99</td>\n",
       "      <td>Pvt Ltd</td>\n",
       "      <td>&gt;4</td>\n",
       "      <td>47</td>\n",
       "      <td>0.0</td>\n",
       "    </tr>\n",
       "    <tr>\n",
       "      <th>2</th>\n",
       "      <td>11561</td>\n",
       "      <td>city_21</td>\n",
       "      <td>0.624</td>\n",
       "      <td>NaN</td>\n",
       "      <td>No relevent experience</td>\n",
       "      <td>Full time course</td>\n",
       "      <td>Graduate</td>\n",
       "      <td>STEM</td>\n",
       "      <td>5</td>\n",
       "      <td>NaN</td>\n",
       "      <td>NaN</td>\n",
       "      <td>never</td>\n",
       "      <td>83</td>\n",
       "      <td>0.0</td>\n",
       "    </tr>\n",
       "    <tr>\n",
       "      <th>3</th>\n",
       "      <td>33241</td>\n",
       "      <td>city_115</td>\n",
       "      <td>0.789</td>\n",
       "      <td>NaN</td>\n",
       "      <td>No relevent experience</td>\n",
       "      <td>NaN</td>\n",
       "      <td>Graduate</td>\n",
       "      <td>Business Degree</td>\n",
       "      <td>&lt;1</td>\n",
       "      <td>NaN</td>\n",
       "      <td>Pvt Ltd</td>\n",
       "      <td>never</td>\n",
       "      <td>52</td>\n",
       "      <td>1.0</td>\n",
       "    </tr>\n",
       "    <tr>\n",
       "      <th>4</th>\n",
       "      <td>666</td>\n",
       "      <td>city_162</td>\n",
       "      <td>0.767</td>\n",
       "      <td>Male</td>\n",
       "      <td>Has relevent experience</td>\n",
       "      <td>no_enrollment</td>\n",
       "      <td>Masters</td>\n",
       "      <td>STEM</td>\n",
       "      <td>&gt;20</td>\n",
       "      <td>50-99</td>\n",
       "      <td>Funded Startup</td>\n",
       "      <td>4</td>\n",
       "      <td>8</td>\n",
       "      <td>0.0</td>\n",
       "    </tr>\n",
       "  </tbody>\n",
       "</table>\n",
       "</div>"
      ],
      "text/plain": [
       "   enrollee_id      city  city_development_index gender  \\\n",
       "0         8949  city_103                   0.920   Male   \n",
       "1        29725   city_40                   0.776   Male   \n",
       "2        11561   city_21                   0.624    NaN   \n",
       "3        33241  city_115                   0.789    NaN   \n",
       "4          666  city_162                   0.767   Male   \n",
       "\n",
       "       relevent_experience enrolled_university education_level  \\\n",
       "0  Has relevent experience       no_enrollment        Graduate   \n",
       "1   No relevent experience       no_enrollment        Graduate   \n",
       "2   No relevent experience    Full time course        Graduate   \n",
       "3   No relevent experience                 NaN        Graduate   \n",
       "4  Has relevent experience       no_enrollment         Masters   \n",
       "\n",
       "  major_discipline experience company_size    company_type last_new_job  \\\n",
       "0             STEM        >20          NaN             NaN            1   \n",
       "1             STEM         15        50-99         Pvt Ltd           >4   \n",
       "2             STEM          5          NaN             NaN        never   \n",
       "3  Business Degree         <1          NaN         Pvt Ltd        never   \n",
       "4             STEM        >20        50-99  Funded Startup            4   \n",
       "\n",
       "   training_hours  target  \n",
       "0              36     1.0  \n",
       "1              47     0.0  \n",
       "2              83     0.0  \n",
       "3              52     1.0  \n",
       "4               8     0.0  "
      ]
     },
     "execution_count": 205,
     "metadata": {},
     "output_type": "execute_result"
    }
   ],
   "source": [
    "df.head()"
   ]
  },
  {
   "cell_type": "markdown",
   "id": "046e499f-7b6f-4466-8fd9-0fea55b42d80",
   "metadata": {
    "jp-MarkdownHeadingCollapsed": true
   },
   "source": [
    "## City column preprocessing"
   ]
  },
  {
   "cell_type": "code",
   "execution_count": 182,
   "id": "a572586a-ea0d-4550-9b0f-8de1bbf2f0a2",
   "metadata": {},
   "outputs": [
    {
     "name": "stdout",
     "output_type": "stream",
     "text": [
      "Requirement already satisfied: category_encoders in c:\\users\\yaraalaqeel\\anaconda3\\lib\\site-packages (2.6.3)Note: you may need to restart the kernel to use updated packages.\n",
      "\n",
      "Requirement already satisfied: numpy>=1.14.0 in c:\\users\\yaraalaqeel\\anaconda3\\lib\\site-packages (from category_encoders) (1.26.4)\n",
      "Requirement already satisfied: scikit-learn>=0.20.0 in c:\\users\\yaraalaqeel\\anaconda3\\lib\\site-packages (from category_encoders) (1.2.2)\n",
      "Requirement already satisfied: scipy>=1.0.0 in c:\\users\\yaraalaqeel\\anaconda3\\lib\\site-packages (from category_encoders) (1.11.4)\n",
      "Requirement already satisfied: statsmodels>=0.9.0 in c:\\users\\yaraalaqeel\\anaconda3\\lib\\site-packages (from category_encoders) (0.14.0)\n",
      "Requirement already satisfied: pandas>=1.0.5 in c:\\users\\yaraalaqeel\\anaconda3\\lib\\site-packages (from category_encoders) (2.1.4)\n",
      "Requirement already satisfied: patsy>=0.5.1 in c:\\users\\yaraalaqeel\\anaconda3\\lib\\site-packages (from category_encoders) (0.5.3)\n",
      "Requirement already satisfied: python-dateutil>=2.8.2 in c:\\users\\yaraalaqeel\\anaconda3\\lib\\site-packages (from pandas>=1.0.5->category_encoders) (2.8.2)\n",
      "Requirement already satisfied: pytz>=2020.1 in c:\\users\\yaraalaqeel\\anaconda3\\lib\\site-packages (from pandas>=1.0.5->category_encoders) (2023.3.post1)\n",
      "Requirement already satisfied: tzdata>=2022.1 in c:\\users\\yaraalaqeel\\anaconda3\\lib\\site-packages (from pandas>=1.0.5->category_encoders) (2023.3)\n",
      "Requirement already satisfied: six in c:\\users\\yaraalaqeel\\anaconda3\\lib\\site-packages (from patsy>=0.5.1->category_encoders) (1.16.0)\n",
      "Requirement already satisfied: joblib>=1.1.1 in c:\\users\\yaraalaqeel\\anaconda3\\lib\\site-packages (from scikit-learn>=0.20.0->category_encoders) (1.2.0)\n",
      "Requirement already satisfied: threadpoolctl>=2.0.0 in c:\\users\\yaraalaqeel\\anaconda3\\lib\\site-packages (from scikit-learn>=0.20.0->category_encoders) (2.2.0)\n",
      "Requirement already satisfied: packaging>=21.3 in c:\\users\\yaraalaqeel\\anaconda3\\lib\\site-packages (from statsmodels>=0.9.0->category_encoders) (23.1)\n"
     ]
    }
   ],
   "source": [
    "pip install category_encoders"
   ]
  },
  {
   "cell_type": "code",
   "execution_count": 206,
   "id": "3f29f638-40b8-4baa-aac0-b1573bfce3d8",
   "metadata": {},
   "outputs": [
    {
     "name": "stdout",
     "output_type": "stream",
     "text": [
      "       enrollee_id      city  city_development_index gender  \\\n",
      "0             8949  0.213088                   0.920   Male   \n",
      "1            29725  0.147894                   0.776   Male   \n",
      "2            11561  0.591044                   0.624    NaN   \n",
      "3            33241  0.384382                   0.789    NaN   \n",
      "4              666  0.289062                   0.767   Male   \n",
      "...            ...       ...                     ...    ...   \n",
      "21282         1289  0.213088                   0.920   Male   \n",
      "21283          195  0.104096                   0.897   Male   \n",
      "21284        31762  0.236364                   0.887   Male   \n",
      "21285         7873  0.171053                   0.804   Male   \n",
      "21286        12215  0.171053                   0.804   Male   \n",
      "\n",
      "           relevent_experience enrolled_university education_level  \\\n",
      "0      Has relevent experience       no_enrollment        Graduate   \n",
      "1       No relevent experience       no_enrollment        Graduate   \n",
      "2       No relevent experience    Full time course        Graduate   \n",
      "3       No relevent experience                 NaN        Graduate   \n",
      "4      Has relevent experience       no_enrollment         Masters   \n",
      "...                        ...                 ...             ...   \n",
      "21282   No relevent experience       no_enrollment        Graduate   \n",
      "21283  Has relevent experience       no_enrollment         Masters   \n",
      "21284   No relevent experience       no_enrollment  Primary School   \n",
      "21285  Has relevent experience    Full time course     High School   \n",
      "21286  Has relevent experience       no_enrollment         Masters   \n",
      "\n",
      "      major_discipline experience company_size    company_type last_new_job  \\\n",
      "0                 STEM        >20          NaN             NaN            1   \n",
      "1                 STEM         15        50-99         Pvt Ltd           >4   \n",
      "2                 STEM          5          NaN             NaN        never   \n",
      "3      Business Degree         <1          NaN         Pvt Ltd        never   \n",
      "4                 STEM        >20        50-99  Funded Startup            4   \n",
      "...                ...        ...          ...             ...          ...   \n",
      "21282       Humanities         16          NaN   Public Sector            4   \n",
      "21283             STEM         18          NaN             NaN            2   \n",
      "21284              NaN          3          NaN         Pvt Ltd        never   \n",
      "21285              NaN          7      100-500   Public Sector            1   \n",
      "21286             STEM         15       10000+         Pvt Ltd            2   \n",
      "\n",
      "       training_hours  target  \n",
      "0                  36     1.0  \n",
      "1                  47     0.0  \n",
      "2                  83     0.0  \n",
      "3                  52     1.0  \n",
      "4                   8     0.0  \n",
      "...               ...     ...  \n",
      "21282              15     NaN  \n",
      "21283              30     NaN  \n",
      "21284              18     NaN  \n",
      "21285              84     NaN  \n",
      "21286              11     NaN  \n",
      "\n",
      "[21287 rows x 14 columns]\n"
     ]
    }
   ],
   "source": [
    "import pandas as pd\n",
    "from category_encoders import TargetEncoder\n",
    "\n",
    "encoder = TargetEncoder(cols=['city'])\n",
    "\n",
    "encoder.fit(df['city'], df['target'])#compute the target encoding for the specified column based on the target variable.\n",
    "\n",
    "df['city'] = encoder.transform(df['city'], df['target'])\n",
    "\n",
    "print(df)"
   ]
  },
  {
   "cell_type": "code",
   "execution_count": 207,
   "id": "bdc378ad-bb9a-4acc-aa55-d9db3b77b937",
   "metadata": {},
   "outputs": [
    {
     "data": {
      "application/vnd.plotly.v1+json": {
       "config": {
        "plotlyServerURL": "https://plot.ly"
       },
       "data": [
        {
         "cells": {
          "align": "left",
          "fill": {
           "color": "lavender"
          },
          "values": [
           [
            0.21308840413318025,
            0.5910436713545522,
            0.11676451402478799,
            0.09955089820359281,
            0.23550295857988165,
            0.10409556313993173,
            0.13225058004640372,
            0.10163934426235703,
            0.17105263157898365,
            0.09302325581405131,
            0.26428571428563796,
            0.23636363636374572,
            0.14661654135551186,
            0.5951417003569585,
            0.09644670365099871,
            0.3147208108387762,
            0.0781250058035778,
            0.0879121027861039,
            0.13714287796121158,
            0.08125013977780847,
            0.12582806719532663,
            0.10714373087320292,
            0.16083956370481117,
            0.27343700858662096,
            0.17187658036892284,
            0.2890616898508822,
            0.08334087002408434,
            0.378144798142276,
            0.14160277083588135,
            0.14035989309349026,
            0.2352979764074,
            0.5191700949528231,
            0.07696184083196468,
            0.12624418548585759,
            0.14899750944055873,
            0.15962930859630944,
            0.5649817432808637,
            0.20229461025921067,
            0.10484773569374277,
            0.2195726212361357,
            0.1142940222678218,
            0.2657777750633138,
            0.10167037620153081,
            0.5720146665000757,
            0.14789376238277474,
            0.24618893498666303,
            0.23890098438598711,
            0.22615424826671188,
            0.582777424121122,
            0.3843823358930721,
            0.13212811974293143,
            0.21713731887744372,
            0.30316143471647117,
            0.276361389254536,
            0.1951328848017509,
            0.3000179084414932,
            0.27854627989535474,
            0.27468347533334225,
            0.3474988081134831,
            0.4166416057634169,
            0.3748725562033059,
            0.08173417321986957,
            0.44950304831906496,
            0.23692359739216506,
            0.14562052814295606,
            0.44693328401402077,
            0.2681980285955429,
            0.3054658171739523,
            0.24979771797756004,
            0.3366840737367833,
            0.2870182040271067,
            0.18172734084651418,
            0.2703221364493922,
            0.2247928369906379,
            0.16285352975291528,
            0.2064750361120018,
            0.21251939946259185,
            0.1934422935857699,
            0.23607593591381182,
            0.18722514460605064,
            0.17467376552876085,
            0.26214586157899944,
            0.2629700780508113,
            0.2871550839505284,
            0.19330140955890793,
            0.41859654771744137,
            0.2055474532586513,
            0.2784329635098648,
            0.43940570812028196,
            0.21161333355115045,
            0.3963271290026892,
            0.26223386123317965,
            0.35289165270409084,
            0.26870704137506074,
            0.3452790939516378,
            0.2176590063240094,
            0.24945713384412913,
            0.17727350318611776,
            0.1959460128402914,
            0.20746173012761024,
            0.25713601768527466,
            0.22654101526278303,
            0.33189997969381657,
            0.31331549137834536,
            0.23299192397310747,
            0.21083199857479668,
            0.34980059613961667,
            0.20386017709453158,
            0.291452537560648,
            0.26232042026930824,
            0.3470137785684452,
            0.2169053042054473
           ],
           [
            4828,
            3020,
            1701,
            1491,
            958,
            646,
            470,
            335,
            334,
            328,
            303,
            296,
            295,
            277,
            221,
            219,
            214,
            198,
            195,
            176,
            166,
            153,
            152,
            144,
            144,
            142,
            129,
            129,
            128,
            126,
            120,
            117,
            111,
            110,
            108,
            106,
            106,
            98,
            97,
            91,
            90,
            90,
            88,
            85,
            80,
            76,
            72,
            69,
            65,
            61,
            58,
            57,
            57,
            56,
            56,
            55,
            55,
            54,
            51,
            49,
            48,
            38,
            32,
            32,
            31,
            30,
            30,
            30,
            29,
            29,
            29,
            28,
            28,
            28,
            28,
            27,
            27,
            25,
            25,
            23,
            23,
            22,
            22,
            21,
            20,
            19,
            18,
            17,
            16,
            15,
            14,
            14,
            14,
            14,
            14,
            14,
            13,
            12,
            10,
            9,
            8,
            7,
            7,
            6,
            6,
            6,
            6,
            5,
            5,
            4,
            2,
            1
           ]
          ]
         },
         "header": {
          "align": "left",
          "fill": {
           "color": "sky blue"
          },
          "values": [
           "City",
           "Count"
          ]
         },
         "type": "table"
        }
       ],
       "layout": {
        "autosize": true,
        "template": {
         "data": {
          "bar": [
           {
            "error_x": {
             "color": "#2a3f5f"
            },
            "error_y": {
             "color": "#2a3f5f"
            },
            "marker": {
             "line": {
              "color": "#E5ECF6",
              "width": 0.5
             },
             "pattern": {
              "fillmode": "overlay",
              "size": 10,
              "solidity": 0.2
             }
            },
            "type": "bar"
           }
          ],
          "barpolar": [
           {
            "marker": {
             "line": {
              "color": "#E5ECF6",
              "width": 0.5
             },
             "pattern": {
              "fillmode": "overlay",
              "size": 10,
              "solidity": 0.2
             }
            },
            "type": "barpolar"
           }
          ],
          "carpet": [
           {
            "aaxis": {
             "endlinecolor": "#2a3f5f",
             "gridcolor": "white",
             "linecolor": "white",
             "minorgridcolor": "white",
             "startlinecolor": "#2a3f5f"
            },
            "baxis": {
             "endlinecolor": "#2a3f5f",
             "gridcolor": "white",
             "linecolor": "white",
             "minorgridcolor": "white",
             "startlinecolor": "#2a3f5f"
            },
            "type": "carpet"
           }
          ],
          "choropleth": [
           {
            "colorbar": {
             "outlinewidth": 0,
             "ticks": ""
            },
            "type": "choropleth"
           }
          ],
          "contour": [
           {
            "colorbar": {
             "outlinewidth": 0,
             "ticks": ""
            },
            "colorscale": [
             [
              0,
              "#0d0887"
             ],
             [
              0.1111111111111111,
              "#46039f"
             ],
             [
              0.2222222222222222,
              "#7201a8"
             ],
             [
              0.3333333333333333,
              "#9c179e"
             ],
             [
              0.4444444444444444,
              "#bd3786"
             ],
             [
              0.5555555555555556,
              "#d8576b"
             ],
             [
              0.6666666666666666,
              "#ed7953"
             ],
             [
              0.7777777777777778,
              "#fb9f3a"
             ],
             [
              0.8888888888888888,
              "#fdca26"
             ],
             [
              1,
              "#f0f921"
             ]
            ],
            "type": "contour"
           }
          ],
          "contourcarpet": [
           {
            "colorbar": {
             "outlinewidth": 0,
             "ticks": ""
            },
            "type": "contourcarpet"
           }
          ],
          "heatmap": [
           {
            "colorbar": {
             "outlinewidth": 0,
             "ticks": ""
            },
            "colorscale": [
             [
              0,
              "#0d0887"
             ],
             [
              0.1111111111111111,
              "#46039f"
             ],
             [
              0.2222222222222222,
              "#7201a8"
             ],
             [
              0.3333333333333333,
              "#9c179e"
             ],
             [
              0.4444444444444444,
              "#bd3786"
             ],
             [
              0.5555555555555556,
              "#d8576b"
             ],
             [
              0.6666666666666666,
              "#ed7953"
             ],
             [
              0.7777777777777778,
              "#fb9f3a"
             ],
             [
              0.8888888888888888,
              "#fdca26"
             ],
             [
              1,
              "#f0f921"
             ]
            ],
            "type": "heatmap"
           }
          ],
          "heatmapgl": [
           {
            "colorbar": {
             "outlinewidth": 0,
             "ticks": ""
            },
            "colorscale": [
             [
              0,
              "#0d0887"
             ],
             [
              0.1111111111111111,
              "#46039f"
             ],
             [
              0.2222222222222222,
              "#7201a8"
             ],
             [
              0.3333333333333333,
              "#9c179e"
             ],
             [
              0.4444444444444444,
              "#bd3786"
             ],
             [
              0.5555555555555556,
              "#d8576b"
             ],
             [
              0.6666666666666666,
              "#ed7953"
             ],
             [
              0.7777777777777778,
              "#fb9f3a"
             ],
             [
              0.8888888888888888,
              "#fdca26"
             ],
             [
              1,
              "#f0f921"
             ]
            ],
            "type": "heatmapgl"
           }
          ],
          "histogram": [
           {
            "marker": {
             "pattern": {
              "fillmode": "overlay",
              "size": 10,
              "solidity": 0.2
             }
            },
            "type": "histogram"
           }
          ],
          "histogram2d": [
           {
            "colorbar": {
             "outlinewidth": 0,
             "ticks": ""
            },
            "colorscale": [
             [
              0,
              "#0d0887"
             ],
             [
              0.1111111111111111,
              "#46039f"
             ],
             [
              0.2222222222222222,
              "#7201a8"
             ],
             [
              0.3333333333333333,
              "#9c179e"
             ],
             [
              0.4444444444444444,
              "#bd3786"
             ],
             [
              0.5555555555555556,
              "#d8576b"
             ],
             [
              0.6666666666666666,
              "#ed7953"
             ],
             [
              0.7777777777777778,
              "#fb9f3a"
             ],
             [
              0.8888888888888888,
              "#fdca26"
             ],
             [
              1,
              "#f0f921"
             ]
            ],
            "type": "histogram2d"
           }
          ],
          "histogram2dcontour": [
           {
            "colorbar": {
             "outlinewidth": 0,
             "ticks": ""
            },
            "colorscale": [
             [
              0,
              "#0d0887"
             ],
             [
              0.1111111111111111,
              "#46039f"
             ],
             [
              0.2222222222222222,
              "#7201a8"
             ],
             [
              0.3333333333333333,
              "#9c179e"
             ],
             [
              0.4444444444444444,
              "#bd3786"
             ],
             [
              0.5555555555555556,
              "#d8576b"
             ],
             [
              0.6666666666666666,
              "#ed7953"
             ],
             [
              0.7777777777777778,
              "#fb9f3a"
             ],
             [
              0.8888888888888888,
              "#fdca26"
             ],
             [
              1,
              "#f0f921"
             ]
            ],
            "type": "histogram2dcontour"
           }
          ],
          "mesh3d": [
           {
            "colorbar": {
             "outlinewidth": 0,
             "ticks": ""
            },
            "type": "mesh3d"
           }
          ],
          "parcoords": [
           {
            "line": {
             "colorbar": {
              "outlinewidth": 0,
              "ticks": ""
             }
            },
            "type": "parcoords"
           }
          ],
          "pie": [
           {
            "automargin": true,
            "type": "pie"
           }
          ],
          "scatter": [
           {
            "fillpattern": {
             "fillmode": "overlay",
             "size": 10,
             "solidity": 0.2
            },
            "type": "scatter"
           }
          ],
          "scatter3d": [
           {
            "line": {
             "colorbar": {
              "outlinewidth": 0,
              "ticks": ""
             }
            },
            "marker": {
             "colorbar": {
              "outlinewidth": 0,
              "ticks": ""
             }
            },
            "type": "scatter3d"
           }
          ],
          "scattercarpet": [
           {
            "marker": {
             "colorbar": {
              "outlinewidth": 0,
              "ticks": ""
             }
            },
            "type": "scattercarpet"
           }
          ],
          "scattergeo": [
           {
            "marker": {
             "colorbar": {
              "outlinewidth": 0,
              "ticks": ""
             }
            },
            "type": "scattergeo"
           }
          ],
          "scattergl": [
           {
            "marker": {
             "colorbar": {
              "outlinewidth": 0,
              "ticks": ""
             }
            },
            "type": "scattergl"
           }
          ],
          "scattermapbox": [
           {
            "marker": {
             "colorbar": {
              "outlinewidth": 0,
              "ticks": ""
             }
            },
            "type": "scattermapbox"
           }
          ],
          "scatterpolar": [
           {
            "marker": {
             "colorbar": {
              "outlinewidth": 0,
              "ticks": ""
             }
            },
            "type": "scatterpolar"
           }
          ],
          "scatterpolargl": [
           {
            "marker": {
             "colorbar": {
              "outlinewidth": 0,
              "ticks": ""
             }
            },
            "type": "scatterpolargl"
           }
          ],
          "scatterternary": [
           {
            "marker": {
             "colorbar": {
              "outlinewidth": 0,
              "ticks": ""
             }
            },
            "type": "scatterternary"
           }
          ],
          "surface": [
           {
            "colorbar": {
             "outlinewidth": 0,
             "ticks": ""
            },
            "colorscale": [
             [
              0,
              "#0d0887"
             ],
             [
              0.1111111111111111,
              "#46039f"
             ],
             [
              0.2222222222222222,
              "#7201a8"
             ],
             [
              0.3333333333333333,
              "#9c179e"
             ],
             [
              0.4444444444444444,
              "#bd3786"
             ],
             [
              0.5555555555555556,
              "#d8576b"
             ],
             [
              0.6666666666666666,
              "#ed7953"
             ],
             [
              0.7777777777777778,
              "#fb9f3a"
             ],
             [
              0.8888888888888888,
              "#fdca26"
             ],
             [
              1,
              "#f0f921"
             ]
            ],
            "type": "surface"
           }
          ],
          "table": [
           {
            "cells": {
             "fill": {
              "color": "#EBF0F8"
             },
             "line": {
              "color": "white"
             }
            },
            "header": {
             "fill": {
              "color": "#C8D4E3"
             },
             "line": {
              "color": "white"
             }
            },
            "type": "table"
           }
          ]
         },
         "layout": {
          "annotationdefaults": {
           "arrowcolor": "#2a3f5f",
           "arrowhead": 0,
           "arrowwidth": 1
          },
          "autotypenumbers": "strict",
          "coloraxis": {
           "colorbar": {
            "outlinewidth": 0,
            "ticks": ""
           }
          },
          "colorscale": {
           "diverging": [
            [
             0,
             "#8e0152"
            ],
            [
             0.1,
             "#c51b7d"
            ],
            [
             0.2,
             "#de77ae"
            ],
            [
             0.3,
             "#f1b6da"
            ],
            [
             0.4,
             "#fde0ef"
            ],
            [
             0.5,
             "#f7f7f7"
            ],
            [
             0.6,
             "#e6f5d0"
            ],
            [
             0.7,
             "#b8e186"
            ],
            [
             0.8,
             "#7fbc41"
            ],
            [
             0.9,
             "#4d9221"
            ],
            [
             1,
             "#276419"
            ]
           ],
           "sequential": [
            [
             0,
             "#0d0887"
            ],
            [
             0.1111111111111111,
             "#46039f"
            ],
            [
             0.2222222222222222,
             "#7201a8"
            ],
            [
             0.3333333333333333,
             "#9c179e"
            ],
            [
             0.4444444444444444,
             "#bd3786"
            ],
            [
             0.5555555555555556,
             "#d8576b"
            ],
            [
             0.6666666666666666,
             "#ed7953"
            ],
            [
             0.7777777777777778,
             "#fb9f3a"
            ],
            [
             0.8888888888888888,
             "#fdca26"
            ],
            [
             1,
             "#f0f921"
            ]
           ],
           "sequentialminus": [
            [
             0,
             "#0d0887"
            ],
            [
             0.1111111111111111,
             "#46039f"
            ],
            [
             0.2222222222222222,
             "#7201a8"
            ],
            [
             0.3333333333333333,
             "#9c179e"
            ],
            [
             0.4444444444444444,
             "#bd3786"
            ],
            [
             0.5555555555555556,
             "#d8576b"
            ],
            [
             0.6666666666666666,
             "#ed7953"
            ],
            [
             0.7777777777777778,
             "#fb9f3a"
            ],
            [
             0.8888888888888888,
             "#fdca26"
            ],
            [
             1,
             "#f0f921"
            ]
           ]
          },
          "colorway": [
           "#636efa",
           "#EF553B",
           "#00cc96",
           "#ab63fa",
           "#FFA15A",
           "#19d3f3",
           "#FF6692",
           "#B6E880",
           "#FF97FF",
           "#FECB52"
          ],
          "font": {
           "color": "#2a3f5f"
          },
          "geo": {
           "bgcolor": "white",
           "lakecolor": "white",
           "landcolor": "#E5ECF6",
           "showlakes": true,
           "showland": true,
           "subunitcolor": "white"
          },
          "hoverlabel": {
           "align": "left"
          },
          "hovermode": "closest",
          "mapbox": {
           "style": "light"
          },
          "paper_bgcolor": "white",
          "plot_bgcolor": "#E5ECF6",
          "polar": {
           "angularaxis": {
            "gridcolor": "white",
            "linecolor": "white",
            "ticks": ""
           },
           "bgcolor": "#E5ECF6",
           "radialaxis": {
            "gridcolor": "white",
            "linecolor": "white",
            "ticks": ""
           }
          },
          "scene": {
           "xaxis": {
            "backgroundcolor": "#E5ECF6",
            "gridcolor": "white",
            "gridwidth": 2,
            "linecolor": "white",
            "showbackground": true,
            "ticks": "",
            "zerolinecolor": "white"
           },
           "yaxis": {
            "backgroundcolor": "#E5ECF6",
            "gridcolor": "white",
            "gridwidth": 2,
            "linecolor": "white",
            "showbackground": true,
            "ticks": "",
            "zerolinecolor": "white"
           },
           "zaxis": {
            "backgroundcolor": "#E5ECF6",
            "gridcolor": "white",
            "gridwidth": 2,
            "linecolor": "white",
            "showbackground": true,
            "ticks": "",
            "zerolinecolor": "white"
           }
          },
          "shapedefaults": {
           "line": {
            "color": "#2a3f5f"
           }
          },
          "ternary": {
           "aaxis": {
            "gridcolor": "white",
            "linecolor": "white",
            "ticks": ""
           },
           "baxis": {
            "gridcolor": "white",
            "linecolor": "white",
            "ticks": ""
           },
           "bgcolor": "#E5ECF6",
           "caxis": {
            "gridcolor": "white",
            "linecolor": "white",
            "ticks": ""
           }
          },
          "title": {
           "x": 0.05
          },
          "xaxis": {
           "automargin": true,
           "gridcolor": "white",
           "linecolor": "white",
           "ticks": "",
           "title": {
            "standoff": 15
           },
           "zerolinecolor": "white",
           "zerolinewidth": 2
          },
          "yaxis": {
           "automargin": true,
           "gridcolor": "white",
           "linecolor": "white",
           "ticks": "",
           "title": {
            "standoff": 15
           },
           "zerolinecolor": "white",
           "zerolinewidth": 2
          }
         }
        },
        "title": {
         "text": "City Column Distribution"
        }
       }
      },
      "image/png": "[encoded data removed]",
      "text/html": [
       "<div>                            <div id=\"38a0da8e-eabf-4b67-8500-b686f11a7e36\" class=\"plotly-graph-div\" style=\"height:525px; width:100%;\"></div>            <script type=\"text/javascript\">                require([\"plotly\"], function(Plotly) {                    window.PLOTLYENV=window.PLOTLYENV || {};                                    if (document.getElementById(\"38a0da8e-eabf-4b67-8500-b686f11a7e36\")) {                    Plotly.newPlot(                        \"38a0da8e-eabf-4b67-8500-b686f11a7e36\",                        [{\"cells\":{\"align\":\"left\",\"fill\":{\"color\":\"lavender\"},\"values\":[[0.21308840413318025,0.5910436713545522,0.11676451402478799,0.09955089820359281,0.23550295857988165,0.10409556313993173,0.13225058004640372,0.10163934426235703,0.17105263157898365,0.09302325581405131,0.26428571428563796,0.23636363636374572,0.14661654135551186,0.5951417003569585,0.09644670365099871,0.3147208108387762,0.0781250058035778,0.0879121027861039,0.13714287796121158,0.08125013977780847,0.12582806719532663,0.10714373087320292,0.16083956370481117,0.27343700858662096,0.17187658036892284,0.2890616898508822,0.08334087002408434,0.378144798142276,0.14160277083588135,0.14035989309349026,0.2352979764074,0.5191700949528231,0.07696184083196468,0.12624418548585759,0.14899750944055873,0.15962930859630944,0.5649817432808637,0.20229461025921067,0.10484773569374277,0.2195726212361357,0.1142940222678218,0.2657777750633138,0.10167037620153081,0.5720146665000757,0.14789376238277474,0.24618893498666303,0.23890098438598711,0.22615424826671188,0.582777424121122,0.3843823358930721,0.13212811974293143,0.21713731887744372,0.30316143471647117,0.276361389254536,0.1951328848017509,0.3000179084414932,0.27854627989535474,0.27468347533334225,0.3474988081134831,0.4166416057634169,0.3748725562033059,0.08173417321986957,0.44950304831906496,0.23692359739216506,0.14562052814295606,0.44693328401402077,0.2681980285955429,0.3054658171739523,0.24979771797756004,0.3366840737367833,0.2870182040271067,0.18172734084651418,0.2703221364493922,0.2247928369906379,0.16285352975291528,0.2064750361120018,0.21251939946259185,0.1934422935857699,0.23607593591381182,0.18722514460605064,0.17467376552876085,0.26214586157899944,0.2629700780508113,0.2871550839505284,0.19330140955890793,0.41859654771744137,0.2055474532586513,0.2784329635098648,0.43940570812028196,0.21161333355115045,0.3963271290026892,0.26223386123317965,0.35289165270409084,0.26870704137506074,0.3452790939516378,0.2176590063240094,0.24945713384412913,0.17727350318611776,0.1959460128402914,0.20746173012761024,0.25713601768527466,0.22654101526278303,0.33189997969381657,0.31331549137834536,0.23299192397310747,0.21083199857479668,0.34980059613961667,0.20386017709453158,0.291452537560648,0.26232042026930824,0.3470137785684452,0.2169053042054473],[4828,3020,1701,1491,958,646,470,335,334,328,303,296,295,277,221,219,214,198,195,176,166,153,152,144,144,142,129,129,128,126,120,117,111,110,108,106,106,98,97,91,90,90,88,85,80,76,72,69,65,61,58,57,57,56,56,55,55,54,51,49,48,38,32,32,31,30,30,30,29,29,29,28,28,28,28,27,27,25,25,23,23,22,22,21,20,19,18,17,16,15,14,14,14,14,14,14,13,12,10,9,8,7,7,6,6,6,6,5,5,4,2,1]]},\"header\":{\"align\":\"left\",\"fill\":{\"color\":\"sky blue\"},\"values\":[\"City\",\"Count\"]},\"type\":\"table\"}],                        {\"template\":{\"data\":{\"histogram2dcontour\":[{\"type\":\"histogram2dcontour\",\"colorbar\":{\"outlinewidth\":0,\"ticks\":\"\"},\"colorscale\":[[0.0,\"#0d0887\"],[0.1111111111111111,\"#46039f\"],[0.2222222222222222,\"#7201a8\"],[0.3333333333333333,\"#9c179e\"],[0.4444444444444444,\"#bd3786\"],[0.5555555555555556,\"#d8576b\"],[0.6666666666666666,\"#ed7953\"],[0.7777777777777778,\"#fb9f3a\"],[0.8888888888888888,\"#fdca26\"],[1.0,\"#f0f921\"]]}],\"choropleth\":[{\"type\":\"choropleth\",\"colorbar\":{\"outlinewidth\":0,\"ticks\":\"\"}}],\"histogram2d\":[{\"type\":\"histogram2d\",\"colorbar\":{\"outlinewidth\":0,\"ticks\":\"\"},\"colorscale\":[[0.0,\"#0d0887\"],[0.1111111111111111,\"#46039f\"],[0.2222222222222222,\"#7201a8\"],[0.3333333333333333,\"#9c179e\"],[0.4444444444444444,\"#bd3786\"],[0.5555555555555556,\"#d8576b\"],[0.6666666666666666,\"#ed7953\"],[0.7777777777777778,\"#fb9f3a\"],[0.8888888888888888,\"#fdca26\"],[1.0,\"#f0f921\"]]}],\"heatmap\":[{\"type\":\"heatmap\",\"colorbar\":{\"outlinewidth\":0,\"ticks\":\"\"},\"colorscale\":[[0.0,\"#0d0887\"],[0.1111111111111111,\"#46039f\"],[0.2222222222222222,\"#7201a8\"],[0.3333333333333333,\"#9c179e\"],[0.4444444444444444,\"#bd3786\"],[0.5555555555555556,\"#d8576b\"],[0.6666666666666666,\"#ed7953\"],[0.7777777777777778,\"#fb9f3a\"],[0.8888888888888888,\"#fdca26\"],[1.0,\"#f0f921\"]]}],\"heatmapgl\":[{\"type\":\"heatmapgl\",\"colorbar\":{\"outlinewidth\":0,\"ticks\":\"\"},\"colorscale\":[[0.0,\"#0d0887\"],[0.1111111111111111,\"#46039f\"],[0.2222222222222222,\"#7201a8\"],[0.3333333333333333,\"#9c179e\"],[0.4444444444444444,\"#bd3786\"],[0.5555555555555556,\"#d8576b\"],[0.6666666666666666,\"#ed7953\"],[0.7777777777777778,\"#fb9f3a\"],[0.8888888888888888,\"#fdca26\"],[1.0,\"#f0f921\"]]}],\"contourcarpet\":[{\"type\":\"contourcarpet\",\"colorbar\":{\"outlinewidth\":0,\"ticks\":\"\"}}],\"contour\":[{\"type\":\"contour\",\"colorbar\":{\"outlinewidth\":0,\"ticks\":\"\"},\"colorscale\":[[0.0,\"#0d0887\"],[0.1111111111111111,\"#46039f\"],[0.2222222222222222,\"#7201a8\"],[0.3333333333333333,\"#9c179e\"],[0.4444444444444444,\"#bd3786\"],[0.5555555555555556,\"#d8576b\"],[0.6666666666666666,\"#ed7953\"],[0.7777777777777778,\"#fb9f3a\"],[0.8888888888888888,\"#fdca26\"],[1.0,\"#f0f921\"]]}],\"surface\":[{\"type\":\"surface\",\"colorbar\":{\"outlinewidth\":0,\"ticks\":\"\"},\"colorscale\":[[0.0,\"#0d0887\"],[0.1111111111111111,\"#46039f\"],[0.2222222222222222,\"#7201a8\"],[0.3333333333333333,\"#9c179e\"],[0.4444444444444444,\"#bd3786\"],[0.5555555555555556,\"#d8576b\"],[0.6666666666666666,\"#ed7953\"],[0.7777777777777778,\"#fb9f3a\"],[0.8888888888888888,\"#fdca26\"],[1.0,\"#f0f921\"]]}],\"mesh3d\":[{\"type\":\"mesh3d\",\"colorbar\":{\"outlinewidth\":0,\"ticks\":\"\"}}],\"scatter\":[{\"fillpattern\":{\"fillmode\":\"overlay\",\"size\":10,\"solidity\":0.2},\"type\":\"scatter\"}],\"parcoords\":[{\"type\":\"parcoords\",\"line\":{\"colorbar\":{\"outlinewidth\":0,\"ticks\":\"\"}}}],\"scatterpolargl\":[{\"type\":\"scatterpolargl\",\"marker\":{\"colorbar\":{\"outlinewidth\":0,\"ticks\":\"\"}}}],\"bar\":[{\"error_x\":{\"color\":\"#2a3f5f\"},\"error_y\":{\"color\":\"#2a3f5f\"},\"marker\":{\"line\":{\"color\":\"#E5ECF6\",\"width\":0.5},\"pattern\":{\"fillmode\":\"overlay\",\"size\":10,\"solidity\":0.2}},\"type\":\"bar\"}],\"scattergeo\":[{\"type\":\"scattergeo\",\"marker\":{\"colorbar\":{\"outlinewidth\":0,\"ticks\":\"\"}}}],\"scatterpolar\":[{\"type\":\"scatterpolar\",\"marker\":{\"colorbar\":{\"outlinewidth\":0,\"ticks\":\"\"}}}],\"histogram\":[{\"marker\":{\"pattern\":{\"fillmode\":\"overlay\",\"size\":10,\"solidity\":0.2}},\"type\":\"histogram\"}],\"scattergl\":[{\"type\":\"scattergl\",\"marker\":{\"colorbar\":{\"outlinewidth\":0,\"ticks\":\"\"}}}],\"scatter3d\":[{\"type\":\"scatter3d\",\"line\":{\"colorbar\":{\"outlinewidth\":0,\"ticks\":\"\"}},\"marker\":{\"colorbar\":{\"outlinewidth\":0,\"ticks\":\"\"}}}],\"scattermapbox\":[{\"type\":\"scattermapbox\",\"marker\":{\"colorbar\":{\"outlinewidth\":0,\"ticks\":\"\"}}}],\"scatterternary\":[{\"type\":\"scatterternary\",\"marker\":{\"colorbar\":{\"outlinewidth\":0,\"ticks\":\"\"}}}],\"scattercarpet\":[{\"type\":\"scattercarpet\",\"marker\":{\"colorbar\":{\"outlinewidth\":0,\"ticks\":\"\"}}}],\"carpet\":[{\"aaxis\":{\"endlinecolor\":\"#2a3f5f\",\"gridcolor\":\"white\",\"linecolor\":\"white\",\"minorgridcolor\":\"white\",\"startlinecolor\":\"#2a3f5f\"},\"baxis\":{\"endlinecolor\":\"#2a3f5f\",\"gridcolor\":\"white\",\"linecolor\":\"white\",\"minorgridcolor\":\"white\",\"startlinecolor\":\"#2a3f5f\"},\"type\":\"carpet\"}],\"table\":[{\"cells\":{\"fill\":{\"color\":\"#EBF0F8\"},\"line\":{\"color\":\"white\"}},\"header\":{\"fill\":{\"color\":\"#C8D4E3\"},\"line\":{\"color\":\"white\"}},\"type\":\"table\"}],\"barpolar\":[{\"marker\":{\"line\":{\"color\":\"#E5ECF6\",\"width\":0.5},\"pattern\":{\"fillmode\":\"overlay\",\"size\":10,\"solidity\":0.2}},\"type\":\"barpolar\"}],\"pie\":[{\"automargin\":true,\"type\":\"pie\"}]},\"layout\":{\"autotypenumbers\":\"strict\",\"colorway\":[\"#636efa\",\"#EF553B\",\"#00cc96\",\"#ab63fa\",\"#FFA15A\",\"#19d3f3\",\"#FF6692\",\"#B6E880\",\"#FF97FF\",\"#FECB52\"],\"font\":{\"color\":\"#2a3f5f\"},\"hovermode\":\"closest\",\"hoverlabel\":{\"align\":\"left\"},\"paper_bgcolor\":\"white\",\"plot_bgcolor\":\"#E5ECF6\",\"polar\":{\"bgcolor\":\"#E5ECF6\",\"angularaxis\":{\"gridcolor\":\"white\",\"linecolor\":\"white\",\"ticks\":\"\"},\"radialaxis\":{\"gridcolor\":\"white\",\"linecolor\":\"white\",\"ticks\":\"\"}},\"ternary\":{\"bgcolor\":\"#E5ECF6\",\"aaxis\":{\"gridcolor\":\"white\",\"linecolor\":\"white\",\"ticks\":\"\"},\"baxis\":{\"gridcolor\":\"white\",\"linecolor\":\"white\",\"ticks\":\"\"},\"caxis\":{\"gridcolor\":\"white\",\"linecolor\":\"white\",\"ticks\":\"\"}},\"coloraxis\":{\"colorbar\":{\"outlinewidth\":0,\"ticks\":\"\"}},\"colorscale\":{\"sequential\":[[0.0,\"#0d0887\"],[0.1111111111111111,\"#46039f\"],[0.2222222222222222,\"#7201a8\"],[0.3333333333333333,\"#9c179e\"],[0.4444444444444444,\"#bd3786\"],[0.5555555555555556,\"#d8576b\"],[0.6666666666666666,\"#ed7953\"],[0.7777777777777778,\"#fb9f3a\"],[0.8888888888888888,\"#fdca26\"],[1.0,\"#f0f921\"]],\"sequentialminus\":[[0.0,\"#0d0887\"],[0.1111111111111111,\"#46039f\"],[0.2222222222222222,\"#7201a8\"],[0.3333333333333333,\"#9c179e\"],[0.4444444444444444,\"#bd3786\"],[0.5555555555555556,\"#d8576b\"],[0.6666666666666666,\"#ed7953\"],[0.7777777777777778,\"#fb9f3a\"],[0.8888888888888888,\"#fdca26\"],[1.0,\"#f0f921\"]],\"diverging\":[[0,\"#8e0152\"],[0.1,\"#c51b7d\"],[0.2,\"#de77ae\"],[0.3,\"#f1b6da\"],[0.4,\"#fde0ef\"],[0.5,\"#f7f7f7\"],[0.6,\"#e6f5d0\"],[0.7,\"#b8e186\"],[0.8,\"#7fbc41\"],[0.9,\"#4d9221\"],[1,\"#276419\"]]},\"xaxis\":{\"gridcolor\":\"white\",\"linecolor\":\"white\",\"ticks\":\"\",\"title\":{\"standoff\":15},\"zerolinecolor\":\"white\",\"automargin\":true,\"zerolinewidth\":2},\"yaxis\":{\"gridcolor\":\"white\",\"linecolor\":\"white\",\"ticks\":\"\",\"title\":{\"standoff\":15},\"zerolinecolor\":\"white\",\"automargin\":true,\"zerolinewidth\":2},\"scene\":{\"xaxis\":{\"backgroundcolor\":\"#E5ECF6\",\"gridcolor\":\"white\",\"linecolor\":\"white\",\"showbackground\":true,\"ticks\":\"\",\"zerolinecolor\":\"white\",\"gridwidth\":2},\"yaxis\":{\"backgroundcolor\":\"#E5ECF6\",\"gridcolor\":\"white\",\"linecolor\":\"white\",\"showbackground\":true,\"ticks\":\"\",\"zerolinecolor\":\"white\",\"gridwidth\":2},\"zaxis\":{\"backgroundcolor\":\"#E5ECF6\",\"gridcolor\":\"white\",\"linecolor\":\"white\",\"showbackground\":true,\"ticks\":\"\",\"zerolinecolor\":\"white\",\"gridwidth\":2}},\"shapedefaults\":{\"line\":{\"color\":\"#2a3f5f\"}},\"annotationdefaults\":{\"arrowcolor\":\"#2a3f5f\",\"arrowhead\":0,\"arrowwidth\":1},\"geo\":{\"bgcolor\":\"white\",\"landcolor\":\"#E5ECF6\",\"subunitcolor\":\"white\",\"showland\":true,\"showlakes\":true,\"lakecolor\":\"white\"},\"title\":{\"x\":0.05},\"mapbox\":{\"style\":\"light\"}}},\"title\":{\"text\":\"City Column Distribution\"}},                        {\"responsive\": true}                    ).then(function(){\n",
       "                            \n",
       "var gd = document.getElementById('38a0da8e-eabf-4b67-8500-b686f11a7e36');\n",
       "var x = new MutationObserver(function (mutations, observer) {{\n",
       "        var display = window.getComputedStyle(gd).display;\n",
       "        if (!display || display === 'none') {{\n",
       "            console.log([gd, 'removed!']);\n",
       "            Plotly.purge(gd);\n",
       "            observer.disconnect();\n",
       "        }}\n",
       "}});\n",
       "\n",
       "// Listen for the removal of the full notebook cells\n",
       "var notebookContainer = gd.closest('#notebook-container');\n",
       "if (notebookContainer) {{\n",
       "    x.observe(notebookContainer, {childList: true});\n",
       "}}\n",
       "\n",
       "// Listen for the clearing of the current output cell\n",
       "var outputEl = gd.closest('.output');\n",
       "if (outputEl) {{\n",
       "    x.observe(outputEl, {childList: true});\n",
       "}}\n",
       "\n",
       "                        })                };                });            </script>        </div>"
      ]
     },
     "metadata": {},
     "output_type": "display_data"
    }
   ],
   "source": [
    "#Interactive tabel for visulizing this column using pandas and plotly\n",
    "import pandas as pd\n",
    "import plotly.graph_objects as go\n",
    "\n",
    "city_counts = df['city'].value_counts(dropna=False).reset_index() #reset_index:convert this Series into a DataFrame:\n",
    "city_counts.columns = ['city', 'count'] #rename the columns to city & count\n",
    "\n",
    "# Create table\n",
    "fig = go.Figure(data=[go.Table(\n",
    "    header=dict(values=['City', 'Count'],\n",
    "                fill_color='sky blue',\n",
    "                align='left'),\n",
    "    cells=dict(values=[city_counts['city'], city_counts['count']],\n",
    "               fill_color='lavender',\n",
    "               align='left'))\n",
    "])\n",
    "\n",
    "fig.update_layout(title='City Column Distribution')\n",
    "fig.show()"
   ]
  },
  {
   "cell_type": "markdown",
   "id": "8c880d69-0998-4b42-b8c7-643e15268740",
   "metadata": {},
   "source": [
    "* Target encoding was applied to the \"city\" column to convert it into a numerical format based on its relationship with the target variable. This method captures the likelihood of each city leading to a positive outcome, preserving valuable information and improving the model's predictive performance by maintaining the statistical significance of each category. Additionally, this technique helps handle high-cardinality categorical variables by encoding them into meaningful numerical values."
   ]
  },
  {
   "cell_type": "markdown",
   "id": "58e3e3f1-f710-4470-b013-b09c15255c27",
   "metadata": {
    "jp-MarkdownHeadingCollapsed": true
   },
   "source": [
    "## City_development_index column"
   ]
  },
  {
   "cell_type": "markdown",
   "id": "51c578e7-1b64-4fd7-b3db-4a9cbc669292",
   "metadata": {},
   "source": [
    "* Display the outliers to investigate them"
   ]
  },
  {
   "cell_type": "code",
   "execution_count": 208,
   "id": "d2caf156-3bd4-4b96-b47f-9d794f4babb8",
   "metadata": {},
   "outputs": [
    {
     "name": "stdout",
     "output_type": "stream",
     "text": [
      "Records with outliers in 'city_development_index':\n",
      "       enrollee_id      city  city_development_index gender  \\\n",
      "1523          8238  0.418597                   0.448    NaN   \n",
      "4744         30985  0.418597                   0.448    NaN   \n",
      "5010         27970  0.418597                   0.448   Male   \n",
      "5265         31194  0.418597                   0.448    NaN   \n",
      "5567           598  0.418597                   0.448    NaN   \n",
      "6127         18564  0.418597                   0.448    NaN   \n",
      "7724         31179  0.418597                   0.448   Male   \n",
      "7864         26838  0.418597                   0.448   Male   \n",
      "9134          4858  0.418597                   0.448    NaN   \n",
      "10401        19463  0.418597                   0.448   Male   \n",
      "13549        28317  0.418597                   0.448    NaN   \n",
      "14913         3891  0.418597                   0.448   Male   \n",
      "15114         4776  0.418597                   0.448    NaN   \n",
      "16555        30131  0.418597                   0.448   Male   \n",
      "16784        10486  0.418597                   0.448    NaN   \n",
      "17701        24256  0.418597                   0.448   Male   \n",
      "18065        16548  0.418597                   0.448    NaN   \n",
      "19807        22527  0.418597                   0.448   Male   \n",
      "19831        18752  0.418597                   0.448   Male   \n",
      "\n",
      "           relevent_experience enrolled_university education_level  \\\n",
      "1523   Has relevent experience    Part time course        Graduate   \n",
      "4744    No relevent experience    Full time course        Graduate   \n",
      "5010    No relevent experience       no_enrollment        Graduate   \n",
      "5265    No relevent experience                 NaN     High School   \n",
      "5567   Has relevent experience    Part time course         Masters   \n",
      "6127    No relevent experience    Full time course        Graduate   \n",
      "7724   Has relevent experience       no_enrollment        Graduate   \n",
      "7864   Has relevent experience       no_enrollment        Graduate   \n",
      "9134    No relevent experience    Part time course         Masters   \n",
      "10401   No relevent experience       no_enrollment        Graduate   \n",
      "13549  Has relevent experience       no_enrollment        Graduate   \n",
      "14913   No relevent experience    Full time course     High School   \n",
      "15114   No relevent experience    Full time course         Masters   \n",
      "16555  Has relevent experience       no_enrollment        Graduate   \n",
      "16784   No relevent experience    Full time course        Graduate   \n",
      "17701   No relevent experience       no_enrollment        Graduate   \n",
      "18065   No relevent experience    Full time course        Graduate   \n",
      "19807   No relevent experience       no_enrollment        Graduate   \n",
      "19831  Has relevent experience       no_enrollment         Masters   \n",
      "\n",
      "      major_discipline experience company_size   company_type last_new_job  \\\n",
      "1523              STEM         10        50-99            NGO           >4   \n",
      "4744              STEM          2          NaN            NaN        never   \n",
      "5010              STEM          1          NaN            NaN        never   \n",
      "5265               NaN          5          NaN        Pvt Ltd        never   \n",
      "5567              STEM          6          NaN            NaN            1   \n",
      "6127              STEM          4          NaN  Public Sector            4   \n",
      "7724              STEM          7        50-99        Pvt Ltd            1   \n",
      "7864              STEM          8          NaN            NaN           >4   \n",
      "9134             Other          2          <10            NGO            1   \n",
      "10401             STEM          5       10000+        Pvt Ltd            2   \n",
      "13549             STEM          8       Oct-49        Pvt Ltd            2   \n",
      "14913              NaN          4          NaN            NaN        never   \n",
      "15114             STEM          4          NaN        Pvt Ltd        never   \n",
      "16555             STEM          4      100-500        Pvt Ltd            1   \n",
      "16784            Other          2      500-999  Public Sector            2   \n",
      "17701             STEM          4       Oct-49  Public Sector            1   \n",
      "18065             STEM         <1    1000-4999  Public Sector          NaN   \n",
      "19807             STEM          4          NaN            NaN            2   \n",
      "19831             STEM          9          NaN            NaN            1   \n",
      "\n",
      "       training_hours  target  \n",
      "1523               48     1.0  \n",
      "4744               43     1.0  \n",
      "5010               73     1.0  \n",
      "5265               86     1.0  \n",
      "5567               18     1.0  \n",
      "6127               32     1.0  \n",
      "7724               28     0.0  \n",
      "7864               74     0.0  \n",
      "9134               23     1.0  \n",
      "10401              36     0.0  \n",
      "13549              14     0.0  \n",
      "14913              31     0.0  \n",
      "15114              66     1.0  \n",
      "16555              16     0.0  \n",
      "16784             154     1.0  \n",
      "17701              44     1.0  \n",
      "18065              15     1.0  \n",
      "19807             100     NaN  \n",
      "19831              40     NaN  \n"
     ]
    }
   ],
   "source": [
    "# Calculate quartiles and IQR\n",
    "Q1 = df['city_development_index'].quantile(0.25)\n",
    "Q3 = df['city_development_index'].quantile(0.75)\n",
    "IQR = Q3 - Q1\n",
    "\n",
    "# Define bounds for outliers\n",
    "lower_bound = Q1 - 1.5 * IQR\n",
    "upper_bound = Q3 + 1.5 * IQR\n",
    "\n",
    "outliers = df[(df['city_development_index'] < lower_bound) | (df['city_development_index'] > upper_bound)]\n",
    "\n",
    "print(\"Records with outliers in 'city_development_index':\")\n",
    "print(outliers)"
   ]
  },
  {
   "cell_type": "markdown",
   "id": "e318f9ac-b675-45f5-b647-64e877a58c6a",
   "metadata": {},
   "source": [
    "##### Counclusion!!!: All the outliers are from the city_33 which is encoded to 0.418597.\n",
    "approach:\n",
    "* Check if outliers are due data entry error\n",
    "* Apply capping technique becaues it is effective when the data contains extreme values that are not errors but are still significantly different from other observations.\n",
    "* NOTE!! : I applied logarithmatic transformation but I found that the outliers were worse becaues my data is between 0-1 ."
   ]
  },
  {
   "cell_type": "code",
   "execution_count": 209,
   "id": "5980a786-3ea1-4a02-83e7-ea75e6955b1f",
   "metadata": {},
   "outputs": [
    {
     "name": "stdout",
     "output_type": "stream",
     "text": [
      "\\Outliers before capping (with capped values):\n",
      "       enrollee_id      city  city_development_index gender  \\\n",
      "1523          8238  0.418597                  0.4675    NaN   \n",
      "4744         30985  0.418597                  0.4675    NaN   \n",
      "5010         27970  0.418597                  0.4675   Male   \n",
      "5265         31194  0.418597                  0.4675    NaN   \n",
      "5567           598  0.418597                  0.4675    NaN   \n",
      "6127         18564  0.418597                  0.4675    NaN   \n",
      "7724         31179  0.418597                  0.4675   Male   \n",
      "7864         26838  0.418597                  0.4675   Male   \n",
      "9134          4858  0.418597                  0.4675    NaN   \n",
      "10401        19463  0.418597                  0.4675   Male   \n",
      "13549        28317  0.418597                  0.4675    NaN   \n",
      "14913         3891  0.418597                  0.4675   Male   \n",
      "15114         4776  0.418597                  0.4675    NaN   \n",
      "16555        30131  0.418597                  0.4675   Male   \n",
      "16784        10486  0.418597                  0.4675    NaN   \n",
      "17701        24256  0.418597                  0.4675   Male   \n",
      "18065        16548  0.418597                  0.4675    NaN   \n",
      "19807        22527  0.418597                  0.4675   Male   \n",
      "19831        18752  0.418597                  0.4675   Male   \n",
      "\n",
      "           relevent_experience enrolled_university education_level  \\\n",
      "1523   Has relevent experience    Part time course        Graduate   \n",
      "4744    No relevent experience    Full time course        Graduate   \n",
      "5010    No relevent experience       no_enrollment        Graduate   \n",
      "5265    No relevent experience                 NaN     High School   \n",
      "5567   Has relevent experience    Part time course         Masters   \n",
      "6127    No relevent experience    Full time course        Graduate   \n",
      "7724   Has relevent experience       no_enrollment        Graduate   \n",
      "7864   Has relevent experience       no_enrollment        Graduate   \n",
      "9134    No relevent experience    Part time course         Masters   \n",
      "10401   No relevent experience       no_enrollment        Graduate   \n",
      "13549  Has relevent experience       no_enrollment        Graduate   \n",
      "14913   No relevent experience    Full time course     High School   \n",
      "15114   No relevent experience    Full time course         Masters   \n",
      "16555  Has relevent experience       no_enrollment        Graduate   \n",
      "16784   No relevent experience    Full time course        Graduate   \n",
      "17701   No relevent experience       no_enrollment        Graduate   \n",
      "18065   No relevent experience    Full time course        Graduate   \n",
      "19807   No relevent experience       no_enrollment        Graduate   \n",
      "19831  Has relevent experience       no_enrollment         Masters   \n",
      "\n",
      "      major_discipline experience company_size   company_type last_new_job  \\\n",
      "1523              STEM         10        50-99            NGO           >4   \n",
      "4744              STEM          2          NaN            NaN        never   \n",
      "5010              STEM          1          NaN            NaN        never   \n",
      "5265               NaN          5          NaN        Pvt Ltd        never   \n",
      "5567              STEM          6          NaN            NaN            1   \n",
      "6127              STEM          4          NaN  Public Sector            4   \n",
      "7724              STEM          7        50-99        Pvt Ltd            1   \n",
      "7864              STEM          8          NaN            NaN           >4   \n",
      "9134             Other          2          <10            NGO            1   \n",
      "10401             STEM          5       10000+        Pvt Ltd            2   \n",
      "13549             STEM          8       Oct-49        Pvt Ltd            2   \n",
      "14913              NaN          4          NaN            NaN        never   \n",
      "15114             STEM          4          NaN        Pvt Ltd        never   \n",
      "16555             STEM          4      100-500        Pvt Ltd            1   \n",
      "16784            Other          2      500-999  Public Sector            2   \n",
      "17701             STEM          4       Oct-49  Public Sector            1   \n",
      "18065             STEM         <1    1000-4999  Public Sector          NaN   \n",
      "19807             STEM          4          NaN            NaN            2   \n",
      "19831             STEM          9          NaN            NaN            1   \n",
      "\n",
      "       training_hours  target  \n",
      "1523               48     1.0  \n",
      "4744               43     1.0  \n",
      "5010               73     1.0  \n",
      "5265               86     1.0  \n",
      "5567               18     1.0  \n",
      "6127               32     1.0  \n",
      "7724               28     0.0  \n",
      "7864               74     0.0  \n",
      "9134               23     1.0  \n",
      "10401              36     0.0  \n",
      "13549              14     0.0  \n",
      "14913              31     0.0  \n",
      "15114              66     1.0  \n",
      "16555              16     0.0  \n",
      "16784             154     1.0  \n",
      "17701              44     1.0  \n",
      "18065              15     1.0  \n",
      "19807             100     NaN  \n",
      "19831              40     NaN  \n"
     ]
    }
   ],
   "source": [
    "# Capping the outliers\n",
    "df['city_development_index'] = np.where(df['city_development_index'] < lower_bound, lower_bound, df['city_development_index'])\n",
    "df['city_development_index'] = np.where(df['city_development_index'] > upper_bound, upper_bound, df['city_development_index'])\n",
    "\n",
    "# Display the capped data\n",
    "print(\"\\Outliers before capping (with capped values):\")\n",
    "print(df.loc[outliers.index])"
   ]
  },
  {
   "cell_type": "code",
   "execution_count": 210,
   "id": "3147344f-7c3b-4b9e-9f1b-375202734a00",
   "metadata": {},
   "outputs": [
    {
     "data": {
      "image/png": "[encoded data removed]",
      "text/plain": [
       "<Figure size 640x480 with 1 Axes>"
      ]
     },
     "metadata": {},
     "output_type": "display_data"
    }
   ],
   "source": [
    "import seaborn as sns\n",
    "import matplotlib.pyplot as plt\n",
    "\n",
    "# Plotting a box plot\n",
    "sns.boxplot(x=df['city_development_index'])\n",
    "plt.xlabel('City Development Index')\n",
    "plt.title('Box Plot of City Development Index')\n",
    "plt.show()"
   ]
  },
  {
   "cell_type": "markdown",
   "id": "a28989ec-cb30-4cb8-b53d-85bfb56ba846",
   "metadata": {},
   "source": [
    "* We applied capping, also known as the Winsorization technique, to limit extreme values in our data, thereby reducing the impact of outliers. As shown in the figure, the outliers are now capped at 4.467 which is in the whisker range of the box figure."
   ]
  },
  {
   "cell_type": "markdown",
   "id": "dd5f5ea1-58aa-4fc8-b65d-56474c9190c0",
   "metadata": {
    "jp-MarkdownHeadingCollapsed": true
   },
   "source": [
    "## enrolled_university column"
   ]
  },
  {
   "cell_type": "code",
   "execution_count": 211,
   "id": "d0a2b503-bd3e-44cc-b704-660ba5b6b1d6",
   "metadata": {},
   "outputs": [
    {
     "name": "stdout",
     "output_type": "stream",
     "text": [
      "       enrollee_id      city  city_development_index gender  \\\n",
      "3            33241  0.384382                   0.789    NaN   \n",
      "13            5826  0.591044                   0.624   Male   \n",
      "62           24690  0.202295                   0.827    NaN   \n",
      "69            4830  0.314721                   0.698    NaN   \n",
      "171          12384  0.416642                   0.698    NaN   \n",
      "...            ...       ...                     ...    ...   \n",
      "20921        20165  0.276361                   0.698    NaN   \n",
      "20998        24947  0.099551                   0.926   Male   \n",
      "21070        10834  0.099551                   0.926    NaN   \n",
      "21224        13605  0.171877                   0.743   Male   \n",
      "21266        19499  0.101639                   0.939    NaN   \n",
      "\n",
      "           relevent_experience enrolled_university education_level  \\\n",
      "3       No relevent experience                 NaN        Graduate   \n",
      "13      No relevent experience                 NaN             NaN   \n",
      "62     Has relevent experience                 NaN         Masters   \n",
      "69      No relevent experience                 NaN             NaN   \n",
      "171    Has relevent experience                 NaN             NaN   \n",
      "...                        ...                 ...             ...   \n",
      "20921   No relevent experience                 NaN             NaN   \n",
      "20998  Has relevent experience                 NaN        Graduate   \n",
      "21070   No relevent experience                 NaN        Graduate   \n",
      "21224  Has relevent experience                 NaN         Masters   \n",
      "21266   No relevent experience                 NaN     High School   \n",
      "\n",
      "      major_discipline experience company_size company_type last_new_job  \\\n",
      "3      Business Degree         <1          NaN      Pvt Ltd        never   \n",
      "13                 NaN          2          NaN          NaN        never   \n",
      "62                STEM         13          <10          NaN            1   \n",
      "69                 NaN          2          NaN      Pvt Ltd        never   \n",
      "171                NaN        >20          NaN          NaN           >4   \n",
      "...                ...        ...          ...          ...          ...   \n",
      "20921              NaN          1          NaN          NaN          NaN   \n",
      "20998             STEM          5       Oct-49      Pvt Ltd            2   \n",
      "21070             STEM         12          NaN          NaN            2   \n",
      "21224             STEM          9    1000-4999          NaN            2   \n",
      "21266              NaN          2          NaN          NaN        never   \n",
      "\n",
      "       training_hours  target  \n",
      "3                  52     1.0  \n",
      "13                 24     0.0  \n",
      "62                 15     0.0  \n",
      "69                228     1.0  \n",
      "171                33     0.0  \n",
      "...               ...     ...  \n",
      "20921             260     NaN  \n",
      "20998              17     NaN  \n",
      "21070             104     NaN  \n",
      "21224              66     NaN  \n",
      "21266              44     NaN  \n",
      "\n",
      "[417 rows x 14 columns]\n"
     ]
    }
   ],
   "source": [
    "null_values=df[df['enrolled_university'].isnull()]\n",
    "print(null_values)"
   ]
  },
  {
   "cell_type": "markdown",
   "id": "5e9b1b5f-cae6-4460-9931-8bbb4b9a8ca4",
   "metadata": {},
   "source": [
    "As shown, predicting these values using a rule-based model isn't feasible (they could be predicted using a machine learning model). Since the null values in this column account for 1.96% of the data, I will delete these rows."
   ]
  },
  {
   "cell_type": "code",
   "execution_count": 212,
   "id": "3284e51b-a745-47bc-8772-09af569d89d7",
   "metadata": {},
   "outputs": [
    {
     "name": "stdout",
     "output_type": "stream",
     "text": [
      "<class 'pandas.core.frame.DataFrame'>\n",
      "Index: 20870 entries, 0 to 21286\n",
      "Data columns (total 14 columns):\n",
      " #   Column                  Non-Null Count  Dtype  \n",
      "---  ------                  --------------  -----  \n",
      " 0   enrollee_id             20870 non-null  int64  \n",
      " 1   city                    20870 non-null  float64\n",
      " 2   city_development_index  20870 non-null  float64\n",
      " 3   gender                  16040 non-null  object \n",
      " 4   relevent_experience     20870 non-null  object \n",
      " 5   enrolled_university     20870 non-null  object \n",
      " 6   education_level         20463 non-null  object \n",
      " 7   major_discipline        17913 non-null  object \n",
      " 8   experience              20805 non-null  object \n",
      " 9   company_size            14561 non-null  object \n",
      " 10  company_type            14355 non-null  object \n",
      " 11  last_new_job            20443 non-null  object \n",
      " 12  training_hours          20870 non-null  int64  \n",
      " 13  target                  18772 non-null  float64\n",
      "dtypes: float64(3), int64(2), object(9)\n",
      "memory usage: 2.4+ MB\n",
      "None\n"
     ]
    }
   ],
   "source": [
    "import pandas as pd\n",
    "dropna_enrolled_university = df.dropna(subset=['enrolled_university'], inplace=True)\n",
    "print(df.info())"
   ]
  },
  {
   "cell_type": "code",
   "execution_count": 213,
   "id": "732cd8ea-85fe-4029-ba5d-ea51835c6aa0",
   "metadata": {},
   "outputs": [
    {
     "name": "stdout",
     "output_type": "stream",
     "text": [
      "Percentage retained after dropping nulls: 98.04%\n"
     ]
    }
   ],
   "source": [
    "total_count_before= 21287\n",
    "total_count_after= 20870\n",
    "percentage_retained = (total_count_after / total_count_before) * 100\n",
    "print(f\"Percentage retained after dropping nulls: {percentage_retained:.2f}%\")"
   ]
  },
  {
   "cell_type": "code",
   "execution_count": 214,
   "id": "b4446a11-af30-4313-86df-e5459260c39e",
   "metadata": {},
   "outputs": [
    {
     "data": {
      "image/png": "[encoded data removed]",
      "text/plain": [
       "<Figure size 800x600 with 1 Axes>"
      ]
     },
     "metadata": {},
     "output_type": "display_data"
    }
   ],
   "source": [
    "import matplotlib.pyplot as plt\n",
    "\n",
    "total_count_before = 21287\n",
    "total_count_after = 20870\n",
    "percentage_dropped = 100.0 - percentage_retained\n",
    "\n",
    "labels = ['Retained', 'Dropped']\n",
    "sizes = [percentage_retained, percentage_dropped]\n",
    "plt.figure(figsize=(8, 6))\n",
    "plt.pie(sizes, labels=labels, colors=colors, autopct='%1.2f%%', startangle=140)\n",
    "plt.title('Percentage of Data Retained After Dropping Nulls')\n",
    "plt.axis('equal')  # Equal aspect ratio ensures that pie is drawn as a circle.\n",
    "plt.show()\n"
   ]
  },
  {
   "cell_type": "markdown",
   "id": "b50aa81e-e4f5-4510-a3ea-014184d541cf",
   "metadata": {},
   "source": [
    "* A percentage retained after dropping nulls of 98.04% indicates that nearly all of the original data remains intact after removing rows where the 'enrolled_university' column had missing values. This suggests minimal impact from data loss, ensuring that the majority of rows with complete 'enrolled_university' information are retained for analysis. "
   ]
  },
  {
   "cell_type": "markdown",
   "id": "314bd44f-b3e4-496c-bac0-9da8496e9dc4",
   "metadata": {
    "jp-MarkdownHeadingCollapsed": true
   },
   "source": [
    "## education_level column"
   ]
  },
  {
   "cell_type": "code",
   "execution_count": 215,
   "id": "7fd6f083-5b3d-48fc-a9aa-6b5451d84a29",
   "metadata": {},
   "outputs": [
    {
     "name": "stdout",
     "output_type": "stream",
     "text": [
      "       enrollee_id      city  city_development_index gender  \\\n",
      "39           24659  0.146617                   0.884   Male   \n",
      "136           3116  0.591044                   0.624   Male   \n",
      "153           8241  0.116765                   0.910    NaN   \n",
      "217           5278  0.591044                   0.624   Male   \n",
      "301          30472  0.591044                   0.624   Male   \n",
      "...            ...       ...                     ...    ...   \n",
      "21178         8837  0.159629                   0.915    NaN   \n",
      "21221         2599  0.087912                   0.899    NaN   \n",
      "21225         3445  0.235503                   0.920    NaN   \n",
      "21232        23948  0.213088                   0.920   Male   \n",
      "21251        27216  0.591044                   0.624    NaN   \n",
      "\n",
      "           relevent_experience enrolled_university education_level  \\\n",
      "39      No relevent experience       no_enrollment             NaN   \n",
      "136     No relevent experience       no_enrollment             NaN   \n",
      "153    Has relevent experience       no_enrollment             NaN   \n",
      "217     No relevent experience       no_enrollment             NaN   \n",
      "301     No relevent experience    Full time course             NaN   \n",
      "...                        ...                 ...             ...   \n",
      "21178  Has relevent experience       no_enrollment             NaN   \n",
      "21221  Has relevent experience       no_enrollment             NaN   \n",
      "21225  Has relevent experience       no_enrollment             NaN   \n",
      "21232   No relevent experience       no_enrollment             NaN   \n",
      "21251  Has relevent experience    Full time course             NaN   \n",
      "\n",
      "      major_discipline experience company_size company_type last_new_job  \\\n",
      "39                 NaN          3          NaN          NaN        never   \n",
      "136                NaN          3          NaN          NaN            1   \n",
      "153                NaN         11          NaN          NaN            1   \n",
      "217                NaN          3          NaN      Pvt Ltd        never   \n",
      "301                NaN          4    1000-4999      Pvt Ltd            1   \n",
      "...                ...        ...          ...          ...          ...   \n",
      "21178              NaN        >20        50-99      Pvt Ltd            2   \n",
      "21221              NaN        >20          NaN      Pvt Ltd        never   \n",
      "21225              NaN         18      100-500      Pvt Ltd           >4   \n",
      "21232              NaN          3          NaN          NaN          NaN   \n",
      "21251              NaN          1          NaN          NaN        never   \n",
      "\n",
      "       training_hours  target  \n",
      "39                106     0.0  \n",
      "136                24     0.0  \n",
      "153                 4     0.0  \n",
      "217               218     0.0  \n",
      "301                 9     1.0  \n",
      "...               ...     ...  \n",
      "21178              79     NaN  \n",
      "21221              34     NaN  \n",
      "21225              64     NaN  \n",
      "21232              13     NaN  \n",
      "21251              22     NaN  \n",
      "\n",
      "[407 rows x 14 columns]\n"
     ]
    }
   ],
   "source": [
    "null_values_of_education=df[df['education_level'].isnull()]\n",
    "print(null_values_of_education)"
   ]
  },
  {
   "cell_type": "code",
   "execution_count": 216,
   "id": "22073a57-f842-4577-9262-e12b5d689285",
   "metadata": {},
   "outputs": [
    {
     "name": "stdout",
     "output_type": "stream",
     "text": [
      "       enrollee_id      city  city_development_index  gender  \\\n",
      "6            28806  0.235503                   0.920    Male   \n",
      "10           29452  0.591044                   0.624     NaN   \n",
      "14            8722  0.591044                   0.624     NaN   \n",
      "25           14505  0.132251                   0.855     NaN   \n",
      "28           21538  0.236364                   0.887    Male   \n",
      "...            ...       ...                     ...     ...   \n",
      "21277         8905  0.416642                   0.698     NaN   \n",
      "21278         9772  0.099551                   0.926    Male   \n",
      "21281        21339  0.591044                   0.624  Female   \n",
      "21284        31762  0.236364                   0.887    Male   \n",
      "21285         7873  0.171053                   0.804    Male   \n",
      "\n",
      "           relevent_experience enrolled_university education_level  \\\n",
      "6      Has relevent experience       no_enrollment     High School   \n",
      "10      No relevent experience    Full time course     High School   \n",
      "14      No relevent experience    Full time course     High School   \n",
      "25      No relevent experience       no_enrollment     High School   \n",
      "28     Has relevent experience       no_enrollment     High School   \n",
      "...                        ...                 ...             ...   \n",
      "21277   No relevent experience    Full time course     High School   \n",
      "21278   No relevent experience       no_enrollment     High School   \n",
      "21281   No relevent experience    Full time course     High School   \n",
      "21284   No relevent experience       no_enrollment  Primary School   \n",
      "21285  Has relevent experience    Full time course     High School   \n",
      "\n",
      "      major_discipline experience company_size    company_type last_new_job  \\\n",
      "6                  NaN          5        50-99  Funded Startup            1   \n",
      "10                 NaN          2          NaN             NaN        never   \n",
      "14                 NaN          5          NaN             NaN        never   \n",
      "25                 NaN          4          NaN             NaN        never   \n",
      "28                 NaN         11          <10         Pvt Ltd            1   \n",
      "...                ...        ...          ...             ...          ...   \n",
      "21277              NaN          8          NaN             NaN        never   \n",
      "21278              NaN          5          NaN             NaN        never   \n",
      "21281              NaN          3          NaN             NaN        never   \n",
      "21284              NaN          3          NaN         Pvt Ltd        never   \n",
      "21285              NaN          7      100-500   Public Sector            1   \n",
      "\n",
      "       training_hours  target  \n",
      "6                  24     0.0  \n",
      "10                 32     1.0  \n",
      "14                 26     0.0  \n",
      "25                 22     0.0  \n",
      "28                  8     1.0  \n",
      "...               ...     ...  \n",
      "21277              55     NaN  \n",
      "21278              32     NaN  \n",
      "21281              56     NaN  \n",
      "21284              18     NaN  \n",
      "21285              84     NaN  \n",
      "\n",
      "[2957 rows x 14 columns]\n"
     ]
    }
   ],
   "source": [
    "null_values_of_education=df[df['major_discipline'].isnull()]\n",
    "print(null_values_of_education)"
   ]
  },
  {
   "cell_type": "markdown",
   "id": "c3c8d4fc-9887-4581-8be4-c39b207c4767",
   "metadata": {},
   "source": [
    "The data indicates that most of the entries with a missing 'education_level' also have a missing 'major_discipline.' Additionally, the majority of the entries with a missing 'major_discipline' have 'education_level' listed as 'High School'."
   ]
  },
  {
   "cell_type": "code",
   "execution_count": 227,
   "id": "55480633-272d-4770-afe2-97c32ae61639",
   "metadata": {},
   "outputs": [
    {
     "data": {
      "image/png": "[encoded data removed]",
      "text/plain": [
       "<Figure size 1000x600 with 1 Axes>"
      ]
     },
     "metadata": {},
     "output_type": "display_data"
    }
   ],
   "source": [
    "majors_nan = df[df['major_discipline'].isnull()]\n",
    "\n",
    "# Count the'education_level' for these rows\n",
    "education_level_nan_distribution = majors_nan['education_level'].value_counts()\n",
    "\n",
    "# Plotting as a pie chart\n",
    "plt.figure(figsize=(10, 6))\n",
    "education_level_nan_distribution.plot(kind='pie', autopct='%1.1f%%')\n",
    "plt.title('Distribution of Education Level for NaN Major Discipline')\n",
    "plt.ylabel('')  \n",
    "plt.show()"
   ]
  },
  {
   "cell_type": "markdown",
   "id": "c577fa53-2fe3-4784-b8d3-a03cbbd48ce6",
   "metadata": {},
   "source": [
    "If an individual's 'major_discipline' is missing (NaN), it is generally assumed with 85.8% certainty that they have completed high school. Therefore, in cases where 'major_discipline' is NaN, I will replace the corresponding 'education_level' with 'High School'."
   ]
  },
  {
   "cell_type": "code",
   "execution_count": 218,
   "id": "6cf57d5d-db98-4953-aea5-09ba63b29534",
   "metadata": {},
   "outputs": [
    {
     "name": "stdout",
     "output_type": "stream",
     "text": [
      "education_level\n",
      "Graduate          12681\n",
      "Masters            4800\n",
      "High School        2189\n",
      "Phd                 461\n",
      "NaN                 407\n",
      "Primary School      332\n",
      "Name: count, dtype: int64\n"
     ]
    }
   ],
   "source": [
    "education_level_before = df['education_level'].value_counts(dropna=False)\n",
    "print(education_level_before)"
   ]
  },
  {
   "cell_type": "code",
   "execution_count": 220,
   "id": "ed35c08a-a27f-42d7-a809-97927486f961",
   "metadata": {},
   "outputs": [],
   "source": [
    "#replace 'education_level' with 'High School' where 'major_discipline' is NaN\n",
    "mask = df['education_level'].isnull() & df['major_discipline'].isnull()\n",
    "df.loc[mask, 'education_level'] = 'High School'\n",
    "education_level_after = df['education_level'].value_counts()"
   ]
  },
  {
   "cell_type": "code",
   "execution_count": 222,
   "id": "3f978806-0872-4e90-abfb-ae8ebbb23eec",
   "metadata": {},
   "outputs": [
    {
     "name": "stdout",
     "output_type": "stream",
     "text": [
      "education_level\n",
      "Graduate          12681\n",
      "Masters            4800\n",
      "High School        2596\n",
      "Phd                 461\n",
      "Primary School      332\n",
      "Name: count, dtype: int64\n"
     ]
    }
   ],
   "source": [
    "education_level_after = df['education_level'].value_counts()\n",
    "print(education_level_after)"
   ]
  },
  {
   "cell_type": "code",
   "execution_count": 230,
   "id": "8f928793-6cf2-4c45-ba23-cbd35196e1a8",
   "metadata": {},
   "outputs": [
    {
     "data": {
      "image/png": "[encoded data removed]",
      "text/plain": [
       "<Figure size 1000x600 with 1 Axes>"
      ]
     },
     "metadata": {},
     "output_type": "display_data"
    }
   ],
   "source": [
    "# Plotting the changes\n",
    "plt.figure(figsize=(10, 6))\n",
    "\n",
    "plt.bar(education_level_before.index.astype(str), education_level_before.values, alpha=0.5, color='b', label='Before Replacement')\n",
    "\n",
    "plt.bar(education_level_after.index.astype(str), education_level_after.values, alpha=0.5, color='g', label='After Replacement')\n",
    "plt.xlabel('Education Level')\n",
    "plt.ylabel('Count')\n",
    "plt.title('Counts of Each Education Level Before and After Replacement')\n",
    "plt.xticks(rotation=45)\n",
    "plt.legend()\n",
    "plt.tight_layout()\n",
    "plt.show()"
   ]
  },
  {
   "cell_type": "markdown",
   "id": "9e135b9b-3efb-424f-9cec-a4c7b60fd959",
   "metadata": {
    "jp-MarkdownHeadingCollapsed": true
   },
   "source": [
    "## load the new dataset"
   ]
  },
  {
   "cell_type": "code",
   "execution_count": 236,
   "id": "928131be-4ad3-4428-94ee-c074b6ebdb2c",
   "metadata": {},
   "outputs": [
    {
     "data": {
      "text/html": [
       "<div>\n",
       "<style scoped>\n",
       "    .dataframe tbody tr th:only-of-type {\n",
       "        vertical-align: middle;\n",
       "    }\n",
       "\n",
       "    .dataframe tbody tr th {\n",
       "        vertical-align: top;\n",
       "    }\n",
       "\n",
       "    .dataframe thead th {\n",
       "        text-align: right;\n",
       "    }\n",
       "</style>\n",
       "<table border=\"1\" class=\"dataframe\">\n",
       "  <thead>\n",
       "    <tr style=\"text-align: right;\">\n",
       "      <th></th>\n",
       "      <th>enrollee_id</th>\n",
       "      <th>city</th>\n",
       "      <th>city_development_index</th>\n",
       "      <th>gender</th>\n",
       "      <th>relevent_experience</th>\n",
       "      <th>enrolled_university</th>\n",
       "      <th>education_level</th>\n",
       "      <th>major_discipline</th>\n",
       "      <th>experience</th>\n",
       "      <th>company_size</th>\n",
       "      <th>company_type</th>\n",
       "      <th>last_new_job</th>\n",
       "      <th>training_hours</th>\n",
       "      <th>target</th>\n",
       "    </tr>\n",
       "  </thead>\n",
       "  <tbody>\n",
       "    <tr>\n",
       "      <th>0</th>\n",
       "      <td>8949</td>\n",
       "      <td>0.213088</td>\n",
       "      <td>0.920</td>\n",
       "      <td>Male</td>\n",
       "      <td>Has relevent experience</td>\n",
       "      <td>no_enrollment</td>\n",
       "      <td>Graduate</td>\n",
       "      <td>STEM</td>\n",
       "      <td>&gt;20</td>\n",
       "      <td>NaN</td>\n",
       "      <td>NaN</td>\n",
       "      <td>1</td>\n",
       "      <td>36</td>\n",
       "      <td>1.0</td>\n",
       "    </tr>\n",
       "    <tr>\n",
       "      <th>1</th>\n",
       "      <td>29725</td>\n",
       "      <td>0.147894</td>\n",
       "      <td>0.776</td>\n",
       "      <td>Male</td>\n",
       "      <td>No relevent experience</td>\n",
       "      <td>no_enrollment</td>\n",
       "      <td>Graduate</td>\n",
       "      <td>STEM</td>\n",
       "      <td>15</td>\n",
       "      <td>50-99</td>\n",
       "      <td>Pvt Ltd</td>\n",
       "      <td>&gt;4</td>\n",
       "      <td>47</td>\n",
       "      <td>0.0</td>\n",
       "    </tr>\n",
       "    <tr>\n",
       "      <th>2</th>\n",
       "      <td>11561</td>\n",
       "      <td>0.591044</td>\n",
       "      <td>0.624</td>\n",
       "      <td>NaN</td>\n",
       "      <td>No relevent experience</td>\n",
       "      <td>Full time course</td>\n",
       "      <td>Graduate</td>\n",
       "      <td>STEM</td>\n",
       "      <td>5</td>\n",
       "      <td>NaN</td>\n",
       "      <td>NaN</td>\n",
       "      <td>never</td>\n",
       "      <td>83</td>\n",
       "      <td>0.0</td>\n",
       "    </tr>\n",
       "    <tr>\n",
       "      <th>3</th>\n",
       "      <td>666</td>\n",
       "      <td>0.289062</td>\n",
       "      <td>0.767</td>\n",
       "      <td>Male</td>\n",
       "      <td>Has relevent experience</td>\n",
       "      <td>no_enrollment</td>\n",
       "      <td>Masters</td>\n",
       "      <td>STEM</td>\n",
       "      <td>&gt;20</td>\n",
       "      <td>50-99</td>\n",
       "      <td>Funded Startup</td>\n",
       "      <td>4</td>\n",
       "      <td>8</td>\n",
       "      <td>0.0</td>\n",
       "    </tr>\n",
       "    <tr>\n",
       "      <th>4</th>\n",
       "      <td>21651</td>\n",
       "      <td>0.274683</td>\n",
       "      <td>0.764</td>\n",
       "      <td>NaN</td>\n",
       "      <td>Has relevent experience</td>\n",
       "      <td>Part time course</td>\n",
       "      <td>Graduate</td>\n",
       "      <td>STEM</td>\n",
       "      <td>11</td>\n",
       "      <td>NaN</td>\n",
       "      <td>NaN</td>\n",
       "      <td>1</td>\n",
       "      <td>24</td>\n",
       "      <td>1.0</td>\n",
       "    </tr>\n",
       "  </tbody>\n",
       "</table>\n",
       "</div>"
      ],
      "text/plain": [
       "   enrollee_id      city  city_development_index gender  \\\n",
       "0         8949  0.213088                   0.920   Male   \n",
       "1        29725  0.147894                   0.776   Male   \n",
       "2        11561  0.591044                   0.624    NaN   \n",
       "3          666  0.289062                   0.767   Male   \n",
       "4        21651  0.274683                   0.764    NaN   \n",
       "\n",
       "       relevent_experience enrolled_university education_level  \\\n",
       "0  Has relevent experience       no_enrollment        Graduate   \n",
       "1   No relevent experience       no_enrollment        Graduate   \n",
       "2   No relevent experience    Full time course        Graduate   \n",
       "3  Has relevent experience       no_enrollment         Masters   \n",
       "4  Has relevent experience    Part time course        Graduate   \n",
       "\n",
       "  major_discipline experience company_size    company_type last_new_job  \\\n",
       "0             STEM        >20          NaN             NaN            1   \n",
       "1             STEM         15        50-99         Pvt Ltd           >4   \n",
       "2             STEM          5          NaN             NaN        never   \n",
       "3             STEM        >20        50-99  Funded Startup            4   \n",
       "4             STEM         11          NaN             NaN            1   \n",
       "\n",
       "   training_hours  target  \n",
       "0              36     1.0  \n",
       "1              47     0.0  \n",
       "2              83     0.0  \n",
       "3               8     0.0  \n",
       "4              24     1.0  "
      ]
     },
     "execution_count": 236,
     "metadata": {},
     "output_type": "execute_result"
    }
   ],
   "source": [
    "import pandas as pd\n",
    "\n",
    "df.to_csv('modified_data.csv', index=False)\n",
    "df_modified = pd.read_csv('modified_data.csv')\n",
    "df_modified.head()"
   ]
  },
  {
   "cell_type": "code",
   "execution_count": null,
   "id": "3758979a-761e-4c34-8d56-955544f76b58",
   "metadata": {},
   "outputs": [],
   "source": []
  }
 ],
 "metadata": {
  "kernelspec": {
   "display_name": "Python 3 (ipykernel)",
   "language": "python",
   "name": "python3"
  },
  "language_info": {
   "codemirror_mode": {
    "name": "ipython",
    "version": 3
   },
   "file_extension": ".py",
   "mimetype": "text/x-python",
   "name": "python",
   "nbconvert_exporter": "python",
   "pygments_lexer": "ipython3",
   "version": "3.11.7"
  }
 },
 "nbformat": 4,
 "nbformat_minor": 5
}
